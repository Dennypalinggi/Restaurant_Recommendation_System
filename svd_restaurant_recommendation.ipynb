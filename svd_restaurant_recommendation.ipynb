{
 "cells": [
  {
   "cell_type": "code",
   "execution_count": 1,
   "metadata": {},
   "outputs": [],
   "source": [
    "import pandas as pd\n",
    "import numpy as np\n",
    "# source data: https://www.kaggle.com/uciml/restaurant-data-with-consumer-ratings\n",
    "df = pd.read_csv('/Users/DPalinggi/OneDrive - indikaenergy/PET PROJECTS/Recommender System/rating_final.csv')\n",
    "df_location = pd.read_csv('/Users/DPalinggi/OneDrive - indikaenergy/PET PROJECTS/Recommender System/geoplaces2.csv')\n",
    "data = pd.merge(df, df_location, how='left', on=['placeID'])\n",
    "data = data[['userID','name','rating']]"
   ]
  },
  {
   "cell_type": "code",
   "execution_count": 2,
   "metadata": {},
   "outputs": [
    {
     "data": {
      "text/html": [
       "<div>\n",
       "<style scoped>\n",
       "    .dataframe tbody tr th:only-of-type {\n",
       "        vertical-align: middle;\n",
       "    }\n",
       "\n",
       "    .dataframe tbody tr th {\n",
       "        vertical-align: top;\n",
       "    }\n",
       "\n",
       "    .dataframe thead th {\n",
       "        text-align: right;\n",
       "    }\n",
       "</style>\n",
       "<table border=\"1\" class=\"dataframe\">\n",
       "  <thead>\n",
       "    <tr style=\"text-align: right;\">\n",
       "      <th></th>\n",
       "      <th>userID</th>\n",
       "      <th>name</th>\n",
       "      <th>rating</th>\n",
       "    </tr>\n",
       "  </thead>\n",
       "  <tbody>\n",
       "    <tr>\n",
       "      <th>0</th>\n",
       "      <td>U1077</td>\n",
       "      <td>Tortas Locas Hipocampo</td>\n",
       "      <td>2</td>\n",
       "    </tr>\n",
       "    <tr>\n",
       "      <th>1</th>\n",
       "      <td>U1077</td>\n",
       "      <td>Restaurant la Chalita</td>\n",
       "      <td>2</td>\n",
       "    </tr>\n",
       "    <tr>\n",
       "      <th>2</th>\n",
       "      <td>U1077</td>\n",
       "      <td>puesto de tacos</td>\n",
       "      <td>2</td>\n",
       "    </tr>\n",
       "    <tr>\n",
       "      <th>3</th>\n",
       "      <td>U1077</td>\n",
       "      <td>Restaurante Marisco Sam</td>\n",
       "      <td>1</td>\n",
       "    </tr>\n",
       "    <tr>\n",
       "      <th>4</th>\n",
       "      <td>U1068</td>\n",
       "      <td>vips</td>\n",
       "      <td>1</td>\n",
       "    </tr>\n",
       "    <tr>\n",
       "      <th>...</th>\n",
       "      <td>...</td>\n",
       "      <td>...</td>\n",
       "      <td>...</td>\n",
       "    </tr>\n",
       "    <tr>\n",
       "      <th>1156</th>\n",
       "      <td>U1043</td>\n",
       "      <td>palomo tec</td>\n",
       "      <td>1</td>\n",
       "    </tr>\n",
       "    <tr>\n",
       "      <th>1157</th>\n",
       "      <td>U1011</td>\n",
       "      <td>tacos de la estacion</td>\n",
       "      <td>1</td>\n",
       "    </tr>\n",
       "    <tr>\n",
       "      <th>1158</th>\n",
       "      <td>U1068</td>\n",
       "      <td>Little Cesarz</td>\n",
       "      <td>1</td>\n",
       "    </tr>\n",
       "    <tr>\n",
       "      <th>1159</th>\n",
       "      <td>U1068</td>\n",
       "      <td>tacos de barbacoa enfrente del Tec</td>\n",
       "      <td>1</td>\n",
       "    </tr>\n",
       "    <tr>\n",
       "      <th>1160</th>\n",
       "      <td>U1068</td>\n",
       "      <td>carnitas mata calle Emilio Portes Gil</td>\n",
       "      <td>0</td>\n",
       "    </tr>\n",
       "  </tbody>\n",
       "</table>\n",
       "<p>1161 rows × 3 columns</p>\n",
       "</div>"
      ],
      "text/plain": [
       "     userID                                   name  rating\n",
       "0     U1077                 Tortas Locas Hipocampo       2\n",
       "1     U1077                  Restaurant la Chalita       2\n",
       "2     U1077                        puesto de tacos       2\n",
       "3     U1077                Restaurante Marisco Sam       1\n",
       "4     U1068                                   vips       1\n",
       "...     ...                                    ...     ...\n",
       "1156  U1043                             palomo tec       1\n",
       "1157  U1011                   tacos de la estacion       1\n",
       "1158  U1068                          Little Cesarz       1\n",
       "1159  U1068     tacos de barbacoa enfrente del Tec       1\n",
       "1160  U1068  carnitas mata calle Emilio Portes Gil       0\n",
       "\n",
       "[1161 rows x 3 columns]"
      ]
     },
     "execution_count": 2,
     "metadata": {},
     "output_type": "execute_result"
    }
   ],
   "source": [
    "data"
   ]
  },
  {
   "cell_type": "code",
   "execution_count": 3,
   "metadata": {},
   "outputs": [
    {
     "data": {
      "text/plain": [
       "array([2, 1, 0])"
      ]
     },
     "execution_count": 3,
     "metadata": {},
     "output_type": "execute_result"
    }
   ],
   "source": [
    "data['rating'].unique()"
   ]
  },
  {
   "cell_type": "markdown",
   "metadata": {},
   "source": [
    "## Train the SVD model "
   ]
  },
  {
   "cell_type": "code",
   "execution_count": 4,
   "metadata": {},
   "outputs": [],
   "source": [
    "from surprise import SVD\n",
    "from surprise import Dataset, Reader\n",
    "from surprise.model_selection import cross_validate, train_test_split\n",
    "\n",
    "\n",
    "# Set rating scale between 0 to 2\n",
    "reader = Reader(rating_scale=(0, 2))"
   ]
  },
  {
   "cell_type": "code",
   "execution_count": 5,
   "metadata": {},
   "outputs": [],
   "source": [
    "# The DataFrame needs to have 3 columns in this specific order: [user_id, product_id, rating]\n",
    "data = Dataset.load_from_df(data, reader)"
   ]
  },
  {
   "cell_type": "code",
   "execution_count": 6,
   "metadata": {},
   "outputs": [],
   "source": [
    "# keep 25% of your trainset for testing\n",
    "trainset, testset = train_test_split(data, test_size=.25)"
   ]
  },
  {
   "cell_type": "code",
   "execution_count": 7,
   "metadata": {},
   "outputs": [
    {
     "data": {
      "text/plain": [
       "<surprise.prediction_algorithms.matrix_factorization.SVD at 0x1192e9890>"
      ]
     },
     "execution_count": 7,
     "metadata": {},
     "output_type": "execute_result"
    }
   ],
   "source": [
    "# train a new SVD with 100 latent features\n",
    "model = SVD(n_factors=100)\n",
    "model.fit(trainset)"
   ]
  },
  {
   "cell_type": "code",
   "execution_count": 8,
   "metadata": {},
   "outputs": [
    {
     "data": {
      "text/plain": [
       "(129, 100)"
      ]
     },
     "execution_count": 8,
     "metadata": {},
     "output_type": "execute_result"
    }
   ],
   "source": [
    "model.qi.shape"
   ]
  },
  {
   "cell_type": "markdown",
   "metadata": {},
   "source": [
    "## Identifying Certain Restaurant "
   ]
  },
  {
   "cell_type": "code",
   "execution_count": 9,
   "metadata": {},
   "outputs": [],
   "source": [
    "item_to_row_idx = model.trainset._raw2inner_id_items"
   ]
  },
  {
   "cell_type": "code",
   "execution_count": 10,
   "metadata": {},
   "outputs": [],
   "source": [
    "restaurant_row_idx : int = item_to_row_idx['puesto de tacos']"
   ]
  },
  {
   "cell_type": "code",
   "execution_count": 11,
   "metadata": {},
   "outputs": [
    {
     "data": {
      "text/plain": [
       "array([-0.06996235, -0.11050709, -0.08535958, -0.26132919, -0.09304525,\n",
       "        0.02136104,  0.00072789, -0.07916805, -0.00750625,  0.02128208,\n",
       "        0.03173453, -0.07122026, -0.00772305,  0.23108256, -0.03265572,\n",
       "        0.11869963, -0.07110369, -0.03856744,  0.07628338, -0.26168568,\n",
       "        0.17456632,  0.20758931,  0.01741186,  0.10830809, -0.25560216,\n",
       "       -0.03749603, -0.06791776,  0.01020548,  0.09120739, -0.15948837,\n",
       "       -0.11915999, -0.10412451,  0.09506549,  0.04381587, -0.05135084,\n",
       "       -0.01958727,  0.02347313,  0.05014179, -0.0199047 , -0.1529212 ,\n",
       "        0.05952342,  0.0122865 ,  0.04970749,  0.1103009 ,  0.11261657,\n",
       "        0.01210724,  0.03845564,  0.06595873, -0.13994793,  0.0879375 ,\n",
       "        0.05613562,  0.18047029,  0.01040207, -0.23587283,  0.03571689,\n",
       "        0.35168202,  0.03805785, -0.0431482 , -0.04922971,  0.0178598 ,\n",
       "        0.0469731 , -0.02378197,  0.03180127, -0.11215197, -0.05839327,\n",
       "       -0.09912808, -0.03265221,  0.04325252, -0.0371544 , -0.18949765,\n",
       "       -0.14862343, -0.02262292,  0.04109372,  0.05454218, -0.01341883,\n",
       "       -0.06174341, -0.19012102, -0.14723449,  0.04369812,  0.06911152,\n",
       "        0.0249577 , -0.17535086, -0.04994193,  0.13941853,  0.04272362,\n",
       "       -0.17242064, -0.02681956, -0.00103875, -0.07091199, -0.03684059,\n",
       "       -0.0023755 , -0.23983625,  0.14309208, -0.0015602 ,  0.05457901,\n",
       "        0.10294939,  0.1268251 , -0.0058296 , -0.01640817, -0.03741267])"
      ]
     },
     "execution_count": 11,
     "metadata": {},
     "output_type": "execute_result"
    }
   ],
   "source": [
    "model.qi[restaurant_row_idx]"
   ]
  },
  {
   "cell_type": "code",
   "execution_count": 12,
   "metadata": {},
   "outputs": [
    {
     "name": "stdout",
     "output_type": "stream",
     "text": [
      "Every restaurant has 100 features\n"
     ]
    }
   ],
   "source": [
    "print(f\"Every restaurant has {model.qi[restaurant_row_idx].shape[0]} features\")"
   ]
  },
  {
   "cell_type": "markdown",
   "metadata": {},
   "source": [
    "## Recommendation via Matrix Reconstruction "
   ]
  },
  {
   "cell_type": "markdown",
   "metadata": {},
   "source": [
    "### Predict a rating between any combination of user and restaurant"
   ]
  },
  {
   "cell_type": "code",
   "execution_count": 13,
   "metadata": {},
   "outputs": [
    {
     "data": {
      "text/plain": [
       "Prediction(uid='U1043', iid='puesto de tacos', r_ui=None, est=1.1705585966297143, details={'was_impossible': False})"
      ]
     },
     "execution_count": 13,
     "metadata": {},
     "output_type": "execute_result"
    }
   ],
   "source": [
    "a_user = \"U1043\"\n",
    "a_restaurant = \"puesto de tacos\"\n",
    "model.predict(a_user, a_restaurant)"
   ]
  },
  {
   "cell_type": "markdown",
   "metadata": {},
   "source": [
    "So based on the model, user U1043 will give 1.2 rating to puesto de tacos"
   ]
  },
  {
   "cell_type": "markdown",
   "metadata": {},
   "source": [
    "## Recommendation via Item Similarity"
   ]
  },
  {
   "cell_type": "code",
   "execution_count": 14,
   "metadata": {},
   "outputs": [],
   "source": [
    "from scipy.spatial.distance import cosine\n",
    "\n",
    "\n",
    "def get_vector_by_restaurant_name(restaurant_name: str, trained_model: SVD) -> np.array:\n",
    "    \"\"\"Returns the latent features of a restaurant in the form of a numpy array\"\"\"\n",
    "    restaurant_row_idx = trained_model.trainset._raw2inner_id_items[restaurant_name]\n",
    "    return trained_model.qi[restaurant_row_idx]\n",
    "\n",
    "\n",
    "def cosine_distance(vector_a: np.array, vector_b: np.array) -> float:\n",
    "    \"\"\"Returns a float indicating the similarity between two vectors\"\"\"\n",
    "    return cosine(vector_a, vector_b)"
   ]
  },
  {
   "cell_type": "markdown",
   "metadata": {},
   "source": [
    "### Recommendations via Item Similarity: Finding similarity between vectors "
   ]
  },
  {
   "cell_type": "code",
   "execution_count": 15,
   "metadata": {},
   "outputs": [],
   "source": [
    "# Fetch indices for 3 random profile_id\n",
    "id_1_idx = model.trainset._raw2inner_id_items['puesto de tacos']\n",
    "id_2_idx = model.trainset._raw2inner_id_items['tacos de la estacion']\n",
    "id_3_idx = model.trainset._raw2inner_id_items['Little Cesarz']\n",
    "\n",
    "# Get vectors for those 3 profile_id\n",
    "id_1_vector = model.qi[id_1_idx]\n",
    "id_2_vector = model.qi[id_2_idx]\n",
    "id_3_vector = model.qi[id_3_idx]"
   ]
  },
  {
   "cell_type": "code",
   "execution_count": 16,
   "metadata": {},
   "outputs": [
    {
     "data": {
      "text/plain": [
       "1.1646743682662306"
      ]
     },
     "execution_count": 16,
     "metadata": {},
     "output_type": "execute_result"
    }
   ],
   "source": [
    "# Distance between two profiles_id\n",
    "cosine_distance(id_1_vector, id_2_vector)"
   ]
  },
  {
   "cell_type": "code",
   "execution_count": 17,
   "metadata": {},
   "outputs": [
    {
     "data": {
      "text/plain": [
       "1.235096822455009"
      ]
     },
     "execution_count": 17,
     "metadata": {},
     "output_type": "execute_result"
    }
   ],
   "source": [
    "cosine_distance(id_1_vector, id_3_vector)"
   ]
  },
  {
   "cell_type": "markdown",
   "metadata": {},
   "source": [
    "From result above we can say that puesto de tacos has more similarity to tacos de la estacion than Little Cesarz"
   ]
  },
  {
   "cell_type": "markdown",
   "metadata": {},
   "source": [
    "### Finding similar restaurant by ranking"
   ]
  },
  {
   "cell_type": "code",
   "execution_count": 18,
   "metadata": {},
   "outputs": [],
   "source": [
    "def get_top_similarities(restaurant_name: str, model: SVD) -> pd.DataFrame:\n",
    "    \"\"\"Returns the top 5 most similar movies to a specified movie\n",
    "    \n",
    "    This function iterates over every possible movie in MovieLens and calculates\n",
    "    distance between `movie_title` vector and that movie's vector.\n",
    "    \"\"\"\n",
    "    \n",
    "    # Get the first restaurant vector\n",
    "    restaurant_vector: np.array = get_vector_by_restaurant_name(restaurant_name, model)\n",
    "    similarity_table = []\n",
    "    \n",
    "    # Iterate over every possible restaurant and calculate similarity\n",
    "    for other_restaurant_name in model.trainset._raw2inner_id_items.keys():\n",
    "        other_restaurant_vector = get_vector_by_restaurant_name(other_restaurant_name, model)\n",
    "        \n",
    "        # Get the second restaurant vector, and calculate distance\n",
    "        similarity_score = cosine_distance(other_restaurant_vector, restaurant_vector)\n",
    "        similarity_table.append((similarity_score, other_restaurant_name))\n",
    "    \n",
    "    # sort restaurant by ascending similarity\n",
    "    return display(sorted(similarity_table))"
   ]
  },
  {
   "cell_type": "code",
   "execution_count": 19,
   "metadata": {},
   "outputs": [
    {
     "data": {
      "text/plain": [
       "[(0.0, 'Tortas Locas Hipocampo'),\n",
       " (0.7633109883373155, 'la Cochinita Pibil Restaurante Yucateco'),\n",
       " (0.7793092663427041, 'Gorditas Doa Gloria'),\n",
       " (0.7875319059515782, 'La Posada del Virrey'),\n",
       " (0.7998526995224852, 'la parroquia'),\n",
       " (0.8065624790992547, 'Cabana Huasteca'),\n",
       " (0.8196942422522094, 'Restaurante la Cantina'),\n",
       " (0.8230630899408701, 'La Cantina Restaurante'),\n",
       " (0.8337684206371934, 'palomo tec'),\n",
       " (0.8353440911387255, 'Michiko Restaurant Japones'),\n",
       " (0.8468851280978684, 'Preambulo Wifi Zone Cafe'),\n",
       " (0.8614904134410094, 'McDonalds Centro'),\n",
       " (0.8617162277904179, 'Carnitas Mata  Calle 16 de Septiembre'),\n",
       " (0.8704350681051349, 'Gorditas Dona Tota'),\n",
       " (0.8706654370345099, 'Rincon Huasteco'),\n",
       " (0.8766416936949386, 'el pueblito'),\n",
       " (0.8777004149787215, 'Restaurant and Bar and Clothesline Carlos N Charlies'),\n",
       " (0.8811854001581518, 'Sanborns Casa Piedra'),\n",
       " (0.8860403560861538, 'Restaurant Wu Zhuo Yi'),\n",
       " (0.8904689937684906, 'El angel Restaurante'),\n",
       " (0.9000284867994949, 'tacos abi'),\n",
       " (0.9000301821049206, 'tacos de la estacion'),\n",
       " (0.9026581417854231, 'Dominos Pizza'),\n",
       " (0.9136204283709222, 'Potzocalli'),\n",
       " (0.9152569108876643, 'Restaurante Guerra'),\n",
       " (0.9177469625793501, 'Taqueria EL amigo '),\n",
       " (0.919141022986336, 'Restaurante Versalles'),\n",
       " (0.9199464696366868, 'Vips'),\n",
       " (0.9296007978704659, 'Restaurant Teely'),\n",
       " (0.9307060197718127, 'Los Vikingos'),\n",
       " (0.9318050132893326, 'Restaurante El Chivero S.A. de C.V.'),\n",
       " (0.9335453260563424, 'churchs'),\n",
       " (0.9344170691325173, 'Restaurante Alhondiga'),\n",
       " (0.9353603954343575, 'Kiku Cuernavaca'),\n",
       " (0.9415053611177404, 'little pizza Emilio Portes Gil'),\n",
       " (0.9441656478125899, 'Restaurante El Reyecito'),\n",
       " (0.9475257657997506, 'VIPS'),\n",
       " (0.9479118698990905, 'dairy queen'),\n",
       " (0.9531409328812619, 'Restaurante Marisco Sam'),\n",
       " (0.953429449213454, 'Pizzeria Julios'),\n",
       " (0.9582167546836592, 'Restaurant Oriental Express'),\n",
       " (0.9589673355672369, 'Tortas y hamburguesas el gordo'),\n",
       " (0.9590858472190377, 'Mariscos El Pescador'),\n",
       " (0.9655777871776926, 'la Cantina'),\n",
       " (0.965816731866631, 'el lechon potosino '),\n",
       " (0.9699327307608717, 'Restaurant Las Mananitas'),\n",
       " (0.9750051241379608, 'Mikasa'),\n",
       " (0.9793382374944252, 'Unicols Pizza'),\n",
       " (0.9800472419388272, 'Sushi Itto'),\n",
       " (0.9805076455192703, 'Hamburguesas La perica'),\n",
       " (0.9820893018272937, 'Mcdonalds Parque Tangamanga'),\n",
       " (0.9858756744671937, 'Carls Jr'),\n",
       " (0.9864084784314788, 'tacos de barbacoa enfrente del Tec'),\n",
       " (0.9875650009892951, 'Luna Cafe'),\n",
       " (0.9909880643171936, 'Restaurante Tiberius'),\n",
       " (0.9922152363474072, 'Restaurant Orizatlan'),\n",
       " (0.9935322938203024, 'La Fontana Pizza Restaurante and Cafe'),\n",
       " (0.9954156504193834, 'Sirlone'),\n",
       " (0.9979655822076128, 'puesto de gorditas'),\n",
       " (0.9995266043432701, 'don burguers'),\n",
       " (1.0016980423864341, 'Subway'),\n",
       " (1.006104490531073, 'Restaurante la Estrella de Dima'),\n",
       " (1.0061731208201503, 'El cotorreo'),\n",
       " (1.0109610264907007, 'La Virreina'),\n",
       " (1.0118566138965124, 'Restaurant Bar Coty y Pablo'),\n",
       " (1.013013222558106, 'Giovannis'),\n",
       " (1.0159644285846556, 'Restaurant la Chalita'),\n",
       " (1.018153070431535, 'Restaurant El Muladar de Calzada'),\n",
       " (1.023049504871669, 'Little Cesarz'),\n",
       " (1.0236853582305376, 'crudalia'),\n",
       " (1.0263361890727634, 'Restaurant Familiar El Chino'),\n",
       " (1.0267412276090975, 'pizza clasica'),\n",
       " (1.0293254267480105, 'carnitas mata calle Emilio Portes Gil'),\n",
       " (1.0303394254983125, 'Restaurant Bar Hacienda los Martinez'),\n",
       " (1.030881284113011, 'TACOS CORRECAMINOS'),\n",
       " (1.032278689500043, 'El Club'),\n",
       " (1.0337993539240475, 'Gordas de morales'),\n",
       " (1.0338495720884786, 'Restaurante El Cielo Potosino'),\n",
       " (1.0364201979352674, 'vips'),\n",
       " (1.0374206821457572, 'La Estrella de Dimas'),\n",
       " (1.0411743671475227, 'El Herradero Restaurante and Bar'),\n",
       " (1.041435982576589, 'Restaurante Pueblo Bonito'),\n",
       " (1.044675043104706, 'Carreton de Flautas y Migadas'),\n",
       " (1.0479239506091165, 'Chilis Cuernavaca'),\n",
       " (1.048658956381424, 'los Toneles'),\n",
       " (1.0522547824831718, 'cafe ambar'),\n",
       " (1.0526163774955564, 'Hamburguesas Valle Dorado'),\n",
       " (1.0535377137264343, 'sirloin stockade'),\n",
       " (1.0564070958945249, 'El Oceano Dorado'),\n",
       " (1.056589045198411, 'Restaurante la Gran Via'),\n",
       " (1.0596739215404947, 'Log Yin'),\n",
       " (1.0602153106133987, 'Abondance Restaurante Bar'),\n",
       " (1.0652584226511768, 'Restaurante Casa de las Flores'),\n",
       " (1.0682817463228513, 'la perica hamburguesa'),\n",
       " (1.0692451702384844, 'Restaurante Bar Fu-hao'),\n",
       " (1.0698835392695858, 'la Estrella de Dimas'),\n",
       " (1.0703531660814203, 'emilianos'),\n",
       " (1.0703716834542099, 'Restaurant los Pinos'),\n",
       " (1.0753605908047126, 'El Mundo de la Pasta'),\n",
       " (1.0778087325101366, 'puesto de tacos'),\n",
       " (1.0785819465640547, 'Restaurante de Mariscos la Langosta'),\n",
       " (1.0804737245844824, 'KFC'),\n",
       " (1.08206718869599, 'Cenaduria El Rincón de Tlaquepaque'),\n",
       " (1.0855647214228454, 'tortas hawai'),\n",
       " (1.0928027574907584, 'Restaurant los Compadres'),\n",
       " (1.0934355493247732, 'Cafeteria y Restaurant El Pacifico'),\n",
       " (1.0944073055983665, 'Pollo_Frito_Buenos_Aires'),\n",
       " (1.0954333913228607, 'Chaires'),\n",
       " (1.1052513886440034, 'shi ro ie'),\n",
       " (1.1084331179552116, 'Restaurant de Mariscos de Picon'),\n",
       " (1.1103965018236146, 'Restaurante 75'),\n",
       " (1.1182320182672845, 'rockabilly '),\n",
       " (1.1221193160469507, 'Restaurante y Pescaderia Tampico'),\n",
       " (1.1230906204740139, 'Restaurante la Parroquia Potosina'),\n",
       " (1.1416706265739034, 'cafe punta del cielo'),\n",
       " (1.1450419129073086, 'Cafeteria cenidet'),\n",
       " (1.1488102124160005, 'tacos los volcanes'),\n",
       " (1.1499904746470913, 'Mariscos Tia Licha'),\n",
       " (1.1507023445255606, 'El Rincon de San Francisco'),\n",
       " (1.1663952596078597, 'Restaurante Bar El Gallinero'),\n",
       " (1.1681767959950684, 'Arrachela Grill'),\n",
       " (1.1693522637451903, 'carnitas_mata'),\n",
       " (1.1748541386260094, 'TACOS EL GUERO'),\n",
       " (1.1855660667442154, 'Koye Sushi'),\n",
       " (1.1923877048118168, 'Rincon del Bife'),\n",
       " (1.2072483705461625, 'Hamburguesas saul'),\n",
       " (1.2078685393307955, 'Cafe Chaires'),\n",
       " (1.2842137281201123, 'El Rinc�n de San Francisco'),\n",
       " (1.2974513619223798, 'Paniroles')]"
      ]
     },
     "metadata": {},
     "output_type": "display_data"
    }
   ],
   "source": [
    "get_top_similarities('Tortas Locas Hipocampo', model)"
   ]
  },
  {
   "cell_type": "code",
   "execution_count": null,
   "metadata": {},
   "outputs": [],
   "source": []
  },
  {
   "cell_type": "code",
   "execution_count": null,
   "metadata": {},
   "outputs": [],
   "source": []
  }
 ],
 "metadata": {
  "kernelspec": {
   "display_name": "Python 3",
   "language": "python",
   "name": "python3"
  },
  "language_info": {
   "codemirror_mode": {
    "name": "ipython",
    "version": 3
   },
   "file_extension": ".py",
   "mimetype": "text/x-python",
   "name": "python",
   "nbconvert_exporter": "python",
   "pygments_lexer": "ipython3",
   "version": "3.7.4"
  }
 },
 "nbformat": 4,
 "nbformat_minor": 2
}
