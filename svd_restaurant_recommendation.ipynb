{
 "cells": [
  {
   "cell_type": "code",
   "execution_count": 1,
   "metadata": {},
   "outputs": [],
   "source": [
    "import pandas as pd\n",
    "import numpy as np\n",
    "# source data: https://www.kaggle.com/uciml/restaurant-data-with-consumer-ratings\n",
    "df = pd.read_csv('/Users/DPalinggi/OneDrive - indikaenergy/PET PROJECTS/Recommender System/rating_final.csv')\n",
    "df_location = pd.read_csv('/Users/DPalinggi/OneDrive - indikaenergy/PET PROJECTS/Recommender System/geoplaces2.csv')\n",
    "data = pd.merge(df, df_location, how='left', on=['placeID'])\n",
    "data = data[['userID','name','rating']]"
   ]
  },
  {
   "cell_type": "code",
   "execution_count": 2,
   "metadata": {},
   "outputs": [
    {
     "data": {
      "text/html": [
       "<div>\n",
       "<style scoped>\n",
       "    .dataframe tbody tr th:only-of-type {\n",
       "        vertical-align: middle;\n",
       "    }\n",
       "\n",
       "    .dataframe tbody tr th {\n",
       "        vertical-align: top;\n",
       "    }\n",
       "\n",
       "    .dataframe thead th {\n",
       "        text-align: right;\n",
       "    }\n",
       "</style>\n",
       "<table border=\"1\" class=\"dataframe\">\n",
       "  <thead>\n",
       "    <tr style=\"text-align: right;\">\n",
       "      <th></th>\n",
       "      <th>userID</th>\n",
       "      <th>name</th>\n",
       "      <th>rating</th>\n",
       "    </tr>\n",
       "  </thead>\n",
       "  <tbody>\n",
       "    <tr>\n",
       "      <th>0</th>\n",
       "      <td>U1077</td>\n",
       "      <td>Tortas Locas Hipocampo</td>\n",
       "      <td>2</td>\n",
       "    </tr>\n",
       "    <tr>\n",
       "      <th>1</th>\n",
       "      <td>U1077</td>\n",
       "      <td>Restaurant la Chalita</td>\n",
       "      <td>2</td>\n",
       "    </tr>\n",
       "    <tr>\n",
       "      <th>2</th>\n",
       "      <td>U1077</td>\n",
       "      <td>puesto de tacos</td>\n",
       "      <td>2</td>\n",
       "    </tr>\n",
       "    <tr>\n",
       "      <th>3</th>\n",
       "      <td>U1077</td>\n",
       "      <td>Restaurante Marisco Sam</td>\n",
       "      <td>1</td>\n",
       "    </tr>\n",
       "    <tr>\n",
       "      <th>4</th>\n",
       "      <td>U1068</td>\n",
       "      <td>vips</td>\n",
       "      <td>1</td>\n",
       "    </tr>\n",
       "    <tr>\n",
       "      <th>...</th>\n",
       "      <td>...</td>\n",
       "      <td>...</td>\n",
       "      <td>...</td>\n",
       "    </tr>\n",
       "    <tr>\n",
       "      <th>1156</th>\n",
       "      <td>U1043</td>\n",
       "      <td>palomo tec</td>\n",
       "      <td>1</td>\n",
       "    </tr>\n",
       "    <tr>\n",
       "      <th>1157</th>\n",
       "      <td>U1011</td>\n",
       "      <td>tacos de la estacion</td>\n",
       "      <td>1</td>\n",
       "    </tr>\n",
       "    <tr>\n",
       "      <th>1158</th>\n",
       "      <td>U1068</td>\n",
       "      <td>Little Cesarz</td>\n",
       "      <td>1</td>\n",
       "    </tr>\n",
       "    <tr>\n",
       "      <th>1159</th>\n",
       "      <td>U1068</td>\n",
       "      <td>tacos de barbacoa enfrente del Tec</td>\n",
       "      <td>1</td>\n",
       "    </tr>\n",
       "    <tr>\n",
       "      <th>1160</th>\n",
       "      <td>U1068</td>\n",
       "      <td>carnitas mata calle Emilio Portes Gil</td>\n",
       "      <td>0</td>\n",
       "    </tr>\n",
       "  </tbody>\n",
       "</table>\n",
       "<p>1161 rows × 3 columns</p>\n",
       "</div>"
      ],
      "text/plain": [
       "     userID                                   name  rating\n",
       "0     U1077                 Tortas Locas Hipocampo       2\n",
       "1     U1077                  Restaurant la Chalita       2\n",
       "2     U1077                        puesto de tacos       2\n",
       "3     U1077                Restaurante Marisco Sam       1\n",
       "4     U1068                                   vips       1\n",
       "...     ...                                    ...     ...\n",
       "1156  U1043                             palomo tec       1\n",
       "1157  U1011                   tacos de la estacion       1\n",
       "1158  U1068                          Little Cesarz       1\n",
       "1159  U1068     tacos de barbacoa enfrente del Tec       1\n",
       "1160  U1068  carnitas mata calle Emilio Portes Gil       0\n",
       "\n",
       "[1161 rows x 3 columns]"
      ]
     },
     "execution_count": 2,
     "metadata": {},
     "output_type": "execute_result"
    }
   ],
   "source": [
    "data"
   ]
  },
  {
   "cell_type": "code",
   "execution_count": 3,
   "metadata": {},
   "outputs": [
    {
     "data": {
      "text/plain": [
       "array([2, 1, 0])"
      ]
     },
     "execution_count": 3,
     "metadata": {},
     "output_type": "execute_result"
    }
   ],
   "source": [
    "data['rating'].unique()"
   ]
  },
  {
   "cell_type": "markdown",
   "metadata": {},
   "source": [
    "## Train the SVD model "
   ]
  },
  {
   "cell_type": "code",
   "execution_count": 4,
   "metadata": {},
   "outputs": [],
   "source": [
    "from surprise import SVD\n",
    "from surprise import Dataset, Reader\n",
    "from surprise.model_selection import cross_validate, train_test_split\n",
    "\n",
    "\n",
    "# Set rating scale between 0 to 2\n",
    "reader = Reader(rating_scale=(0, 2))"
   ]
  },
  {
   "cell_type": "code",
   "execution_count": 5,
   "metadata": {},
   "outputs": [],
   "source": [
    "# The DataFrame needs to have 3 columns in this specific order: [user_id, product_id, rating]\n",
    "data = Dataset.load_from_df(data, reader)"
   ]
  },
  {
   "cell_type": "code",
   "execution_count": 6,
   "metadata": {},
   "outputs": [],
   "source": [
    "# keep 25% of your trainset for testing\n",
    "trainset, testset = train_test_split(data, test_size=.25)"
   ]
  },
  {
   "cell_type": "code",
   "execution_count": 7,
   "metadata": {},
   "outputs": [
    {
     "data": {
      "text/plain": [
       "<surprise.prediction_algorithms.matrix_factorization.SVD at 0x117f5cc90>"
      ]
     },
     "execution_count": 7,
     "metadata": {},
     "output_type": "execute_result"
    }
   ],
   "source": [
    "# train a new SVD with 100 latent features\n",
    "model = SVD(n_factors=100)\n",
    "model.fit(trainset)"
   ]
  },
  {
   "cell_type": "code",
   "execution_count": 8,
   "metadata": {},
   "outputs": [
    {
     "data": {
      "text/plain": [
       "(128, 100)"
      ]
     },
     "execution_count": 8,
     "metadata": {},
     "output_type": "execute_result"
    }
   ],
   "source": [
    "model.qi.shape"
   ]
  },
  {
   "cell_type": "markdown",
   "metadata": {},
   "source": [
    "## Identifying Certain Restaurant "
   ]
  },
  {
   "cell_type": "code",
   "execution_count": 9,
   "metadata": {},
   "outputs": [],
   "source": [
    "item_to_row_idx = model.trainset._raw2inner_id_items"
   ]
  },
  {
   "cell_type": "code",
   "execution_count": 10,
   "metadata": {},
   "outputs": [],
   "source": [
    "restaurant_row_idx : int = item_to_row_idx['puesto de tacos']"
   ]
  },
  {
   "cell_type": "code",
   "execution_count": 11,
   "metadata": {},
   "outputs": [
    {
     "data": {
      "text/plain": [
       "array([-0.06482757,  0.0464706 , -0.08641418,  0.08569937,  0.09121836,\n",
       "        0.0366324 ,  0.03448812,  0.11941822, -0.07333014, -0.01700724,\n",
       "        0.12394586,  0.12528807,  0.00427896,  0.13780554,  0.06194164,\n",
       "        0.10269031,  0.02224996,  0.18139599, -0.15381884, -0.01220896,\n",
       "       -0.23125479, -0.00081094,  0.00117855,  0.24475117, -0.12044532,\n",
       "        0.03084069, -0.03716773,  0.05842001, -0.02344612, -0.04281169,\n",
       "        0.01910757,  0.08916615, -0.02874976, -0.00447974,  0.01541525,\n",
       "        0.12151091,  0.06392766,  0.03159135,  0.04725584, -0.0808508 ,\n",
       "       -0.04993413,  0.00767312, -0.05813281, -0.01781769,  0.13240371,\n",
       "       -0.12734975, -0.1036991 ,  0.00454455,  0.08014567,  0.12312516,\n",
       "        0.09424687,  0.10080174,  0.0079399 , -0.09313194,  0.03377077,\n",
       "       -0.21246711,  0.05239199,  0.0861674 ,  0.07441308, -0.02881045,\n",
       "        0.06775418, -0.16545758,  0.07024731,  0.0852682 ,  0.04108448,\n",
       "       -0.09977365, -0.09252084,  0.08782523,  0.00927094,  0.12659798,\n",
       "       -0.02852934,  0.00883961, -0.08022129,  0.01670947,  0.13337989,\n",
       "       -0.01288186,  0.0876551 , -0.01509282,  0.05024649, -0.03506882,\n",
       "       -0.09157198,  0.07200937,  0.05286453,  0.02917605,  0.0157464 ,\n",
       "       -0.02341934,  0.0792135 , -0.1434139 , -0.04319659,  0.02540132,\n",
       "        0.13321774, -0.09349792, -0.06246086, -0.10732049, -0.04860439,\n",
       "        0.18551213,  0.01386019, -0.09210931, -0.06213499,  0.03970751])"
      ]
     },
     "execution_count": 11,
     "metadata": {},
     "output_type": "execute_result"
    }
   ],
   "source": [
    "model.qi[restaurant_row_idx]"
   ]
  },
  {
   "cell_type": "code",
   "execution_count": 12,
   "metadata": {},
   "outputs": [
    {
     "name": "stdout",
     "output_type": "stream",
     "text": [
      "Every restaurant has 100 features\n"
     ]
    }
   ],
   "source": [
    "print(f\"Every restaurant has {model.qi[restaurant_row_idx].shape[0]} features\")"
   ]
  },
  {
   "cell_type": "markdown",
   "metadata": {},
   "source": [
    "## Recommendation via Matrix Reconstruction "
   ]
  },
  {
   "cell_type": "markdown",
   "metadata": {},
   "source": [
    "### Predict a rating between any combination of user and restaurant"
   ]
  },
  {
   "cell_type": "code",
   "execution_count": 13,
   "metadata": {},
   "outputs": [
    {
     "data": {
      "text/plain": [
       "Prediction(uid='U1043', iid='puesto de tacos', r_ui=None, est=1.215769357936859, details={'was_impossible': False})"
      ]
     },
     "execution_count": 13,
     "metadata": {},
     "output_type": "execute_result"
    }
   ],
   "source": [
    "a_user = \"U1043\"\n",
    "a_restaurant = \"puesto de tacos\"\n",
    "model.predict(a_user, a_restaurant)"
   ]
  },
  {
   "cell_type": "markdown",
   "metadata": {},
   "source": [
    "So based on the model, user U1043 will give 1.2 rating to puesto de tacos"
   ]
  },
  {
   "cell_type": "markdown",
   "metadata": {},
   "source": [
    "## Recommendation via Item Similarity"
   ]
  },
  {
   "cell_type": "code",
   "execution_count": 14,
   "metadata": {},
   "outputs": [],
   "source": [
    "from scipy.spatial.distance import cosine\n",
    "\n",
    "\n",
    "def get_vector_by_restaurant_name(restaurant_name: str, trained_model: SVD) -> np.array:\n",
    "    \"\"\"Returns the latent features of a restaurant in the form of a numpy array\"\"\"\n",
    "    restaurant_row_idx = trained_model.trainset._raw2inner_id_items[restaurant_name]\n",
    "    return trained_model.qi[restaurant_row_idx]\n",
    "\n",
    "\n",
    "def cosine_distance(vector_a: np.array, vector_b: np.array) -> float:\n",
    "    \"\"\"Returns a float indicating the similarity between two vectors\"\"\"\n",
    "    return cosine(vector_a, vector_b)"
   ]
  },
  {
   "cell_type": "markdown",
   "metadata": {},
   "source": [
    "### Recommendations via Item Similarity: Finding similarity between vectors "
   ]
  },
  {
   "cell_type": "code",
   "execution_count": 15,
   "metadata": {},
   "outputs": [],
   "source": [
    "# Fetch indices for 3 random profile_id\n",
    "id_1_idx = model.trainset._raw2inner_id_items['puesto de tacos']\n",
    "id_2_idx = model.trainset._raw2inner_id_items['tacos de la estacion']\n",
    "id_3_idx = model.trainset._raw2inner_id_items['Little Cesarz']\n",
    "\n",
    "# Get vectors for those 3 profile_id\n",
    "id_1_vector = model.qi[id_1_idx]\n",
    "id_2_vector = model.qi[id_2_idx]\n",
    "id_3_vector = model.qi[id_3_idx]"
   ]
  },
  {
   "cell_type": "code",
   "execution_count": 16,
   "metadata": {},
   "outputs": [
    {
     "data": {
      "text/plain": [
       "1.0468584519935034"
      ]
     },
     "execution_count": 16,
     "metadata": {},
     "output_type": "execute_result"
    }
   ],
   "source": [
    "# Distance between two profiles_id\n",
    "cosine_distance(id_1_vector, id_2_vector)"
   ]
  },
  {
   "cell_type": "code",
   "execution_count": 17,
   "metadata": {},
   "outputs": [
    {
     "data": {
      "text/plain": [
       "0.8009875763445398"
      ]
     },
     "execution_count": 17,
     "metadata": {},
     "output_type": "execute_result"
    }
   ],
   "source": [
    "cosine_distance(id_1_vector, id_3_vector)"
   ]
  },
  {
   "cell_type": "markdown",
   "metadata": {},
   "source": [
    "From result above we can say that puesto de tacos has more similarity to tacos de la estacion than Little Cesarz"
   ]
  },
  {
   "cell_type": "markdown",
   "metadata": {},
   "source": [
    "### Finding similar restaurant by ranking"
   ]
  },
  {
   "cell_type": "code",
   "execution_count": 18,
   "metadata": {},
   "outputs": [],
   "source": [
    "def display(similarity_table):\n",
    "    similarity_table = pd.DataFrame(\n",
    "        similarity_table,\n",
    "        columns=['vector cosine distance', 'restaurant name']\n",
    "    ).sort_values('vector cosine distance', ascending=True)\n",
    "    return similarity_table.iloc[:4]"
   ]
  },
  {
   "cell_type": "code",
   "execution_count": 19,
   "metadata": {},
   "outputs": [],
   "source": [
    "def get_top_similarities(restaurant_name: str, model: SVD) -> pd.DataFrame:\n",
    "    \"\"\"Returns the top 5 most similar restaurant to a specified restaurant\n",
    "    \n",
    "    \"\"\"\n",
    "    \n",
    "    # Get the first restaurant vector\n",
    "    restaurant_vector: np.array = get_vector_by_restaurant_name(restaurant_name, model)\n",
    "    similarity_table = []\n",
    "    \n",
    "    # Iterate over every possible restaurant and calculate similarity\n",
    "    for other_restaurant_name in model.trainset._raw2inner_id_items.keys():\n",
    "        other_restaurant_vector = get_vector_by_restaurant_name(other_restaurant_name, model)\n",
    "        \n",
    "        # Get the second restaurant vector, and calculate distance\n",
    "        similarity_score = cosine_distance(other_restaurant_vector, restaurant_vector)\n",
    "        similarity_table.append((similarity_score, other_restaurant_name))\n",
    "    \n",
    "    # sort restaurant by ascending similarity\n",
    "    return display(sorted(similarity_table))"
   ]
  },
  {
   "cell_type": "code",
   "execution_count": 20,
   "metadata": {},
   "outputs": [
    {
     "data": {
      "text/html": [
       "<div>\n",
       "<style scoped>\n",
       "    .dataframe tbody tr th:only-of-type {\n",
       "        vertical-align: middle;\n",
       "    }\n",
       "\n",
       "    .dataframe tbody tr th {\n",
       "        vertical-align: top;\n",
       "    }\n",
       "\n",
       "    .dataframe thead th {\n",
       "        text-align: right;\n",
       "    }\n",
       "</style>\n",
       "<table border=\"1\" class=\"dataframe\">\n",
       "  <thead>\n",
       "    <tr style=\"text-align: right;\">\n",
       "      <th></th>\n",
       "      <th>vector cosine distance</th>\n",
       "      <th>restaurant name</th>\n",
       "    </tr>\n",
       "  </thead>\n",
       "  <tbody>\n",
       "    <tr>\n",
       "      <th>0</th>\n",
       "      <td>0.000000</td>\n",
       "      <td>Tortas Locas Hipocampo</td>\n",
       "    </tr>\n",
       "    <tr>\n",
       "      <th>1</th>\n",
       "      <td>0.751496</td>\n",
       "      <td>KFC</td>\n",
       "    </tr>\n",
       "    <tr>\n",
       "      <th>2</th>\n",
       "      <td>0.760581</td>\n",
       "      <td>Restaurant los Compadres</td>\n",
       "    </tr>\n",
       "    <tr>\n",
       "      <th>3</th>\n",
       "      <td>0.766727</td>\n",
       "      <td>Mariscos Tia Licha</td>\n",
       "    </tr>\n",
       "  </tbody>\n",
       "</table>\n",
       "</div>"
      ],
      "text/plain": [
       "   vector cosine distance           restaurant name\n",
       "0                0.000000    Tortas Locas Hipocampo\n",
       "1                0.751496                       KFC\n",
       "2                0.760581  Restaurant los Compadres\n",
       "3                0.766727        Mariscos Tia Licha"
      ]
     },
     "execution_count": 20,
     "metadata": {},
     "output_type": "execute_result"
    }
   ],
   "source": [
    "get_top_similarities('Tortas Locas Hipocampo', model)"
   ]
  },
  {
   "cell_type": "code",
   "execution_count": null,
   "metadata": {},
   "outputs": [],
   "source": []
  },
  {
   "cell_type": "code",
   "execution_count": null,
   "metadata": {},
   "outputs": [],
   "source": []
  }
 ],
 "metadata": {
  "kernelspec": {
   "display_name": "Python 3",
   "language": "python",
   "name": "python3"
  },
  "language_info": {
   "codemirror_mode": {
    "name": "ipython",
    "version": 3
   },
   "file_extension": ".py",
   "mimetype": "text/x-python",
   "name": "python",
   "nbconvert_exporter": "python",
   "pygments_lexer": "ipython3",
   "version": "3.7.4"
  }
 },
 "nbformat": 4,
 "nbformat_minor": 2
}
